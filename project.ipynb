{
 "cells": [
  {
   "cell_type": "code",
   "execution_count": 1,
   "metadata": {},
   "outputs": [
    {
     "data": {
      "text/html": [
       "<div>\n",
       "<style scoped>\n",
       "    .dataframe tbody tr th:only-of-type {\n",
       "        vertical-align: middle;\n",
       "    }\n",
       "\n",
       "    .dataframe tbody tr th {\n",
       "        vertical-align: top;\n",
       "    }\n",
       "\n",
       "    .dataframe thead th {\n",
       "        text-align: right;\n",
       "    }\n",
       "</style>\n",
       "<table border=\"1\" class=\"dataframe\">\n",
       "  <thead>\n",
       "    <tr style=\"text-align: right;\">\n",
       "      <th></th>\n",
       "      <th>Name</th>\n",
       "      <th>Qty</th>\n",
       "      <th>daramad</th>\n",
       "      <th>Fee</th>\n",
       "    </tr>\n",
       "  </thead>\n",
       "  <tbody>\n",
       "    <tr>\n",
       "      <th>38</th>\n",
       "      <td>[1503110535] Cob Spot Light Cree Chip Bla...</td>\n",
       "      <td>1621</td>\n",
       "      <td>453.88</td>\n",
       "      <td>0.28</td>\n",
       "    </tr>\n",
       "    <tr>\n",
       "      <th>4</th>\n",
       "      <td>[10100500000] Sucket Gu10</td>\n",
       "      <td>1370</td>\n",
       "      <td>150.70</td>\n",
       "      <td>0.11</td>\n",
       "    </tr>\n",
       "    <tr>\n",
       "      <th>56</th>\n",
       "      <td>[LLNCC1D0043] Dimmable Filament Candle 4W...</td>\n",
       "      <td>798</td>\n",
       "      <td>391.02</td>\n",
       "      <td>0.49</td>\n",
       "    </tr>\n",
       "    <tr>\n",
       "      <th>9</th>\n",
       "      <td>[111043067WW] 3 W Cob Led White Wall Ligh...</td>\n",
       "      <td>250</td>\n",
       "      <td>202.50</td>\n",
       "      <td>0.81</td>\n",
       "    </tr>\n",
       "    <tr>\n",
       "      <th>8</th>\n",
       "      <td>[111043067WH] 3 W Cob Led White Wall Ligh...</td>\n",
       "      <td>198</td>\n",
       "      <td>174.24</td>\n",
       "      <td>0.88</td>\n",
       "    </tr>\n",
       "  </tbody>\n",
       "</table>\n",
       "</div>"
      ],
      "text/plain": [
       "                                                 Name   Qty  daramad   Fee\n",
       "38       [1503110535] Cob Spot Light Cree Chip Bla...  1621   453.88  0.28\n",
       "4                           [10100500000] Sucket Gu10  1370   150.70  0.11\n",
       "56       [LLNCC1D0043] Dimmable Filament Candle 4W...   798   391.02  0.49\n",
       "9        [111043067WW] 3 W Cob Led White Wall Ligh...   250   202.50  0.81\n",
       "8        [111043067WH] 3 W Cob Led White Wall Ligh...   198   174.24  0.88"
      ]
     },
     "execution_count": 1,
     "metadata": {},
     "output_type": "execute_result"
    }
   ],
   "source": [
    "from matplotlib import pyplot as plt\n",
    "import pandas as pd\n",
    "df=pd.read_csv('shop.csv')\n",
    "df['daramad']=df['Qty']*df['Fee']\n",
    "groupsale=df.groupby(['Name','Qty','daramad']).sum().reset_index()\n",
    "groupsale=groupsale.sort_values(by='Qty',ascending=False)\n",
    "groupsale.head(5)"
   ]
  }
 ],
 "metadata": {
  "kernelspec": {
   "display_name": "Python 3",
   "language": "python",
   "name": "python3"
  },
  "language_info": {
   "codemirror_mode": {
    "name": "ipython",
    "version": 3
   },
   "file_extension": ".py",
   "mimetype": "text/x-python",
   "name": "python",
   "nbconvert_exporter": "python",
   "pygments_lexer": "ipython3",
   "version": "3.12.5"
  }
 },
 "nbformat": 4,
 "nbformat_minor": 2
}
